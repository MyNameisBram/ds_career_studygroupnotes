{
 "cells": [
  {
   "cell_type": "markdown",
   "metadata": {},
   "source": [
    "# STUDY GROUP - M01S02\n",
    "## Basic Data Science Statistics"
   ]
  },
  {
   "cell_type": "markdown",
   "metadata": {},
   "source": [
    "### Objectives\n",
    "You will be able to:\n",
    "* Identify measures of central tendency - mean, median, mode \n",
    "* Identify measures of dispersion - absolute difference, variance, standard deviation\n"
   ]
  },
  {
   "cell_type": "markdown",
   "metadata": {},
   "source": [
    "### Measures of Central Tendency"
   ]
  },
  {
   "cell_type": "markdown",
   "metadata": {},
   "source": [
    "* mean - average, sum(xi)/len(x)\n",
    "* median - middle value in ordered list, mean of middle 2 values in even numbered list\n",
    "* mode - most frequent value in list"
   ]
  },
  {
   "cell_type": "markdown",
   "metadata": {},
   "source": [
    "How are mean, median, and mode related in a **centrally distributed** distribution? \n",
    " * mean = median = mode\n",
    " \n",
    "How are mean, median, and mode related in a **negative/left skewed** distribution?\n",
    " * mean < median ~= mode\n",
    " \n",
    "How are mean, median, and mode related in a **positive/right skewed** distribution?\n",
    " * mean > median ~= mode\n",
    " \n",
    " **mean is more affected by outliers compared to median, mode**"
   ]
  },
  {
   "cell_type": "markdown",
   "metadata": {},
   "source": [
    "### Measures of Dispersion"
   ]
  },
  {
   "cell_type": "markdown",
   "metadata": {},
   "source": [
    "* absolute deviation - absolute value difference between xi and xbar\n",
    "> $|x_i - \\bar{x}|$\n",
    "* variance - average of the sum of square of absolute deviations\n",
    "    * Two problems with variance:\n",
    "        1. Because the deviations of values from the mean are 'squared', this gives more weight to extreme scores. \n",
    "        2. Variance is not in the same units as the values in our data set. Variance is measured in the units squared. This means we cannot directly relate variance value to the values in our data set.\n",
    "* standard deviation - square root of variance"
   ]
  },
  {
   "cell_type": "markdown",
   "metadata": {},
   "source": [
    "#### List Indexing"
   ]
  },
  {
   "cell_type": "code",
   "execution_count": 2,
   "metadata": {},
   "outputs": [],
   "source": [
    "top_travel_cities = ['Solta', 'Greenville', 'Buenos Aires', 'Los Cabos', 'Walla Walla Valley', 'Marakesh', 'Albuquerque', 'Archipelago Sea', 'Iguazu Falls', 'Salina Island', 'Toronto', 'Pyeongchang']"
   ]
  },
  {
   "cell_type": "code",
   "execution_count": 3,
   "metadata": {},
   "outputs": [
    {
     "data": {
      "text/plain": [
       "'Pyeongchang'"
      ]
     },
     "execution_count": 3,
     "metadata": {},
     "output_type": "execute_result"
    }
   ],
   "source": [
    "top_travel_cities[-1] # zero-indexing"
   ]
  },
  {
   "cell_type": "code",
   "execution_count": 6,
   "metadata": {},
   "outputs": [
    {
     "data": {
      "text/plain": [
       "['Walla Walla Valley',\n",
       " 'Marakesh',\n",
       " 'Albuquerque',\n",
       " 'Archipelago Sea',\n",
       " 'Iguazu Falls',\n",
       " 'Salina Island',\n",
       " 'Toronto',\n",
       " 'Pyeongchang']"
      ]
     },
     "execution_count": 6,
     "metadata": {},
     "output_type": "execute_result"
    }
   ],
   "source": [
    "#index slicing\n",
    "#top_travel_cities[0:5] #non-inclusive indexing\n",
    "#top_travel_cities[:5]\n",
    "top_travel_cities[4:]"
   ]
  },
  {
   "cell_type": "markdown",
   "metadata": {},
   "source": [
    "### List Methods"
   ]
  },
  {
   "cell_type": "markdown",
   "metadata": {},
   "source": [
    "* .pop() - remove last element added\n",
    "* .append() - add element to end of list\n",
    "* .insert() - inserts new element\n",
    "* .remove() - remove element from list\n",
    "* .extend() - extends one list with elements from another "
   ]
  },
  {
   "cell_type": "code",
   "execution_count": 16,
   "metadata": {},
   "outputs": [
    {
     "name": "stdout",
     "output_type": "stream",
     "text": [
      "a [1, 2, 3]\n",
      "b ['one', 'two', 'three']\n",
      "new_a [1, 2, 3, 'one', 'two', 'three']\n",
      "[1, 2, 3, 'one', 'two', 'three']\n"
     ]
    }
   ],
   "source": [
    "#top_travel_cities.insert()\n",
    "a = [1, 2, 3]\n",
    "b = ['one', 'two', 'three']\n",
    "# a.pop()\n",
    "#a.append(100)\n",
    "#a.insert(2, 57)\n",
    "#a.remove(1)\n",
    "#print(a)\n",
    "# .extend() exercise\n",
    "print('a', a)\n",
    "print('b', b)\n",
    "a.extend(b)\n",
    "print('new_a', a)\n",
    "print(a)"
   ]
  },
  {
   "cell_type": "markdown",
   "metadata": {},
   "source": [
    "zero indexing in python"
   ]
  },
  {
   "cell_type": "markdown",
   "metadata": {},
   "source": [
    "### Control Flow"
   ]
  },
  {
   "cell_type": "markdown",
   "metadata": {},
   "source": [
    "* for loop\n",
    "* while loop\n",
    "* if statement"
   ]
  },
  {
   "cell_type": "code",
   "execution_count": null,
   "metadata": {},
   "outputs": [],
   "source": [
    "# if statements\n",
    "if condition_statement:\n",
    "    output (print_statement, return_statement, operation)\n",
    "elif:\n",
    "    output alternate\n",
    "else:\n",
    "    output last possibility"
   ]
  },
  {
   "cell_type": "markdown",
   "metadata": {},
   "source": [
    "#### for loop and while loops\n",
    "* for loop - iterate through a set\n",
    "* while loop - iterate through a condition"
   ]
  },
  {
   "cell_type": "code",
   "execution_count": null,
   "metadata": {},
   "outputs": [],
   "source": [
    "for memeber in _set:\n",
    "    operation\n",
    "    \n",
    "while condition(>,<.>=,<=,==):\n",
    "    operation"
   ]
  },
  {
   "cell_type": "code",
   "execution_count": 18,
   "metadata": {},
   "outputs": [
    {
     "name": "stdout",
     "output_type": "stream",
     "text": [
      "['solta', 'greenville', 'buenos aires', 'los cabos', 'walla walla valley', 'marakesh', 'albuquerque', 'archipelago sea', 'iguazu falls', 'salina island', 'toronto', 'pyeongchang']\n"
     ]
    }
   ],
   "source": [
    "lower_cities = [] # instatiate new list OUTSIDE of loop\n",
    "for city in top_travel_cities:\n",
    "    lower_cities.append(city.lower())\n",
    "    \n",
    "print(lower_cities)"
   ]
  },
  {
   "cell_type": "code",
   "execution_count": 23,
   "metadata": {},
   "outputs": [
    {
     "name": "stdout",
     "output_type": "stream",
     "text": [
      "['solta', 'greenville', 'buenos aires', 'los cabos', 'walla walla valley', 'marakesh', 'albuquerque', 'archipelago sea', 'iguazu falls', 'salina island', 'toronto', 'pyeongchang']\n"
     ]
    }
   ],
   "source": [
    "## make new list with all cities from top_travel_cities, but lowercase\n",
    "\n",
    "# make new list\n",
    "new_list = []\n",
    "# start loop to iterate over top_travel_cities list\n",
    "for city in top_travel_cities:\n",
    "# run .lower() method on each city in the list\n",
    "lower_city = city.lower()\n",
    "# .append() each modified city to new list\n",
    "#new_list.append(city.lower())\n",
    "new_list.append(lower_city)\n",
    "# print new list\n",
    "print(new_list)"
   ]
  },
  {
   "cell_type": "code",
   "execution_count": 20,
   "metadata": {},
   "outputs": [
    {
     "name": "stdout",
     "output_type": "stream",
     "text": [
      "['solta']\n",
      "['solta', 'greenville']\n",
      "['solta', 'greenville', 'buenos aires']\n",
      "['solta', 'greenville', 'buenos aires', 'los cabos']\n",
      "['solta', 'greenville', 'buenos aires', 'los cabos', 'walla walla valley']\n"
     ]
    }
   ],
   "source": [
    "#i = 0             # set index for WHILE loop\n",
    "lower_cities = [] # instatiate new list OUTSIDE of loop\n",
    "#while i < 5:\n",
    "for city in top_travel_cities[:5]: # nested loops (ADVANCED!!!)\n",
    "    #i += 1 # be careful with your indexer placement with nested loops!\n",
    "    lower_cities.append(city.lower())\n",
    "    print(lower_cities)"
   ]
  },
  {
   "cell_type": "code",
   "execution_count": 21,
   "metadata": {},
   "outputs": [
    {
     "name": "stdout",
     "output_type": "stream",
     "text": [
      "4\n",
      "3\n",
      "2\n",
      "1\n",
      "The stop_number reached 0 so the while loop's condition became False and stopped execution\n"
     ]
    }
   ],
   "source": [
    "stop_number = 4\n",
    "while stop_number > 0:\n",
    "    print(stop_number)\n",
    "    stop_number -= 1\n",
    "\n",
    "print(\"The stop_number reached\", stop_number, \"so the while loop's condition became False and stopped execution\")"
   ]
  },
  {
   "cell_type": "code",
   "execution_count": null,
   "metadata": {},
   "outputs": [],
   "source": []
  }
 ],
 "metadata": {
  "kernelspec": {
   "display_name": "Python 3",
   "language": "python",
   "name": "python3"
  },
  "language_info": {
   "codemirror_mode": {
    "name": "ipython",
    "version": 3
   },
   "file_extension": ".py",
   "mimetype": "text/x-python",
   "name": "python",
   "nbconvert_exporter": "python",
   "pygments_lexer": "ipython3",
   "version": "3.7.1"
  }
 },
 "nbformat": 4,
 "nbformat_minor": 2
}
