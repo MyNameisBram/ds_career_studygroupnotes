{
 "cells": [
  {
   "cell_type": "markdown",
   "metadata": {},
   "source": [
    "# STUDY GROUP - M01S10\n",
    "## Introduction to Linear Regression"
   ]
  },
  {
   "cell_type": "markdown",
   "metadata": {},
   "source": [
    "### Objectives\n",
    "You will be able to:\n",
    "* Explain Statistical Learning Theory \n",
    "    1. Independent vs Dependent variables (Features vs Target)\n",
    "    2. Define statistical model and model parameters (y = mx + b)\n",
    "    3. Describe use of a loss function\n",
    "* Explain use of R^2 error as residual/loss function\n",
    "* Define assumptions for linear regression and explain statistial tests used to verify the validity of those assumptions for a given dataset\n",
    "    1. Scatter plots for **linearity**\n",
    "    2. kde plots, Q-Q plots, and Jarque-Bera Tests for **normality**\n",
    "    3. Goldfeld-Quant Test for **homoscedasticity**\n",
    "* Explain the relationship between p-values and hypothesis testing"
   ]
  },
  {
   "cell_type": "markdown",
   "metadata": {},
   "source": [
    "### Statistical Learning Theory"
   ]
  },
  {
   "cell_type": "markdown",
   "metadata": {},
   "source": [
    "* statistical model can be thought as some kind of a transformation that helps us express dependent variables as a function of independent variables. So a model essentially defines a Relationship between a dependent and an independent variable.\n",
    "\n",
    "y = f(x)\n",
    "* model parameters are the co-efficients of the model equation for estimating the output. Statistical Learning is all about learning these parameters. A statistical learning approach would help us learn these parameters so we have a clear description of their relationship which we can replicate and analyze under different circumstances.\n",
    "\n",
    "y = m * x + b"
   ]
  },
  {
   "cell_type": "markdown",
   "metadata": {},
   "source": [
    "### Loss Functions"
   ]
  },
  {
   "cell_type": "markdown",
   "metadata": {},
   "source": [
    "* loss function is a method of evaluating how well your model represents the relationship between data variables.\n",
    "* R-squared uses a baseline model which is the worst model. This baseline model does not make use of any independent variables to predict the value of dependent variable Y. Instead it uses the mean of the observed responses of dependent variable Y and always predicts this mean as the value of Y. Any regression model that we fit is compared to this baseline model to understand it’s goodness of fit. Simply put, R-squared just explains how good is your model when compared to the baseline model. Thats about it.\n",
    "* R-squared can take value between 0 and 1 where values closer to 0 represent a poor fit and values closer to 1 represent a perfect fit"
   ]
  },
  {
   "cell_type": "markdown",
   "metadata": {},
   "source": [
    "### Assumptions of Linear Regression"
   ]
  },
  {
   "cell_type": "markdown",
   "metadata": {},
   "source": [
    "* linearity - relationship between dependent and independent variables is linear\n",
    "    * scatter plot\n",
    "* normality - distributed evenly about the mean, normal distribution\n",
    "    * Q-Q plot\n",
    "    * kde/histograms\n",
    "    * Jarque-Bera test, more general, better for large n\n",
    "* homoscedasticity - distribution of dependent variable has uniform relationship to independent variable\n",
    "    * Goldfeld-Quant test"
   ]
  },
  {
   "cell_type": "markdown",
   "metadata": {},
   "source": [
    "### p-values and Hypothesis Testing"
   ]
  },
  {
   "cell_type": "code",
   "execution_count": null,
   "metadata": {},
   "outputs": [],
   "source": []
  }
 ],
 "metadata": {
  "kernelspec": {
   "display_name": "Python 3",
   "language": "python",
   "name": "python3"
  },
  "language_info": {
   "codemirror_mode": {
    "name": "ipython",
    "version": 3
   },
   "file_extension": ".py",
   "mimetype": "text/x-python",
   "name": "python",
   "nbconvert_exporter": "python",
   "pygments_lexer": "ipython3",
   "version": "3.7.1"
  }
 },
 "nbformat": 4,
 "nbformat_minor": 2
}
