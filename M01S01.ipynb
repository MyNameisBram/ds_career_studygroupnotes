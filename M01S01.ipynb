{
 "cells": [
  {
   "cell_type": "markdown",
   "metadata": {},
   "source": [
    "# STUDY GROUP - M01S01\n",
    "## Data Types, Data Structures, & Control Flow"
   ]
  },
  {
   "cell_type": "markdown",
   "metadata": {},
   "source": [
    "### Objectives\n",
    "You will be able to:\n",
    "* Identify data types - strings, numbers, bool \n",
    "* Identify data structures - lists, dictionaries\n",
    "* Define use case for different control flow tools - if, for, while"
   ]
  },
  {
   "cell_type": "markdown",
   "metadata": {},
   "source": [
    "### Data Types"
   ]
  },
  {
   "cell_type": "code",
   "execution_count": 6,
   "metadata": {},
   "outputs": [],
   "source": [
    "string = 'What is the meaning of life?'\n",
    "string2 = '525,600 minutes'\n",
    "number = 42.0\n",
    "_bool = True"
   ]
  },
  {
   "cell_type": "code",
   "execution_count": 7,
   "metadata": {},
   "outputs": [
    {
     "data": {
      "text/plain": [
       "bool"
      ]
     },
     "execution_count": 7,
     "metadata": {},
     "output_type": "execute_result"
    }
   ],
   "source": [
    "type(_bool)"
   ]
  },
  {
   "cell_type": "markdown",
   "metadata": {},
   "source": [
    "#### String methods"
   ]
  },
  {
   "cell_type": "markdown",
   "metadata": {},
   "source": [
    "* .upper()\n",
    "* .lower()\n",
    "* .capitalize()\n",
    "* .title()\n"
   ]
  },
  {
   "cell_type": "code",
   "execution_count": 10,
   "metadata": {},
   "outputs": [
    {
     "data": {
      "text/plain": [
       "'What Is The Meaning Of Life?'"
      ]
     },
     "execution_count": 10,
     "metadata": {},
     "output_type": "execute_result"
    }
   ],
   "source": [
    "string.title()"
   ]
  },
  {
   "cell_type": "code",
   "execution_count": 6,
   "metadata": {},
   "outputs": [
    {
     "data": {
      "text/plain": [
       "int"
      ]
     },
     "execution_count": 6,
     "metadata": {},
     "output_type": "execute_result"
    }
   ],
   "source": [
    "type(number)"
   ]
  },
  {
   "cell_type": "code",
   "execution_count": 8,
   "metadata": {},
   "outputs": [
    {
     "data": {
      "text/plain": [
       "bool"
      ]
     },
     "execution_count": 8,
     "metadata": {},
     "output_type": "execute_result"
    }
   ],
   "source": [
    "type(_bool)"
   ]
  },
  {
   "cell_type": "markdown",
   "metadata": {},
   "source": [
    "### Data Structures"
   ]
  },
  {
   "cell_type": "markdown",
   "metadata": {},
   "source": [
    "* lists - []\n",
    "* dictionaries - {'key':'value'/value, }"
   ]
  },
  {
   "cell_type": "markdown",
   "metadata": {},
   "source": [
    "#### List Indexing"
   ]
  },
  {
   "cell_type": "code",
   "execution_count": 11,
   "metadata": {},
   "outputs": [],
   "source": [
    "top_travel_cities = ['Solta', 'Greenville', 'Buenos Aires', 'Los Cabos', 'Walla Walla Valley', 'Marakesh', 'Albuquerque', 'Archipelago Sea', 'Iguazu Falls', 'Salina Island', 'Toronto', 'Pyeongchang']"
   ]
  },
  {
   "cell_type": "code",
   "execution_count": 13,
   "metadata": {},
   "outputs": [
    {
     "data": {
      "text/plain": [
       "'Solta'"
      ]
     },
     "execution_count": 13,
     "metadata": {},
     "output_type": "execute_result"
    }
   ],
   "source": [
    "top_travel_cities[0] # zero-indexing"
   ]
  },
  {
   "cell_type": "code",
   "execution_count": 16,
   "metadata": {},
   "outputs": [
    {
     "data": {
      "text/plain": [
       "['Walla Walla Valley',\n",
       " 'Marakesh',\n",
       " 'Albuquerque',\n",
       " 'Archipelago Sea',\n",
       " 'Iguazu Falls',\n",
       " 'Salina Island',\n",
       " 'Toronto',\n",
       " 'Pyeongchang']"
      ]
     },
     "execution_count": 16,
     "metadata": {},
     "output_type": "execute_result"
    }
   ],
   "source": [
    "#index slicing\n",
    "#top_travel_cities[0:5] #non-inclusive indexing\n",
    "#top_travel_cities[:5]\n",
    "top_travel_cities[4:]"
   ]
  },
  {
   "cell_type": "markdown",
   "metadata": {},
   "source": [
    "### List Methods"
   ]
  },
  {
   "cell_type": "markdown",
   "metadata": {},
   "source": [
    "* .pop() - remove last element added\n",
    "* .append() - add element to end of list\n",
    "* .insert() - inserts new element\n",
    "* .remove() - remove element from list\n",
    "* .extend() - extends one list with elements from another "
   ]
  },
  {
   "cell_type": "code",
   "execution_count": 18,
   "metadata": {},
   "outputs": [
    {
     "name": "stdout",
     "output_type": "stream",
     "text": [
      "a [1, 2, 3]\n",
      "b ['one', 'two', 'three']\n",
      "new a [1, 2, 3, 'one', 'two', 'three']\n"
     ]
    }
   ],
   "source": [
    "#top_travel_cities.insert()\n",
    "a = [1, 2, 3]\n",
    "b = ['one', 'two', 'three']\n",
    "# .extend() exercise\n",
    "print('a', a)\n",
    "print('b', b)\n",
    "a.extend(b)\n",
    "print('new a', a)"
   ]
  },
  {
   "cell_type": "markdown",
   "metadata": {},
   "source": [
    "zero indexing in python"
   ]
  },
  {
   "cell_type": "markdown",
   "metadata": {},
   "source": [
    "### Control Flow"
   ]
  },
  {
   "cell_type": "markdown",
   "metadata": {},
   "source": [
    "* for loop\n",
    "* while loop\n",
    "* if statement"
   ]
  },
  {
   "cell_type": "code",
   "execution_count": null,
   "metadata": {},
   "outputs": [],
   "source": [
    "# if statements\n",
    "if condition_statement:\n",
    "    output (print_statement, return_statement, operation)\n",
    "elif:\n",
    "    output alternate\n",
    "else:\n",
    "    output last possibility"
   ]
  },
  {
   "cell_type": "markdown",
   "metadata": {},
   "source": [
    "#### for loop and while loops\n",
    "* for loop - iterate through a set\n",
    "* while loop - iterate through a condition"
   ]
  },
  {
   "cell_type": "code",
   "execution_count": null,
   "metadata": {},
   "outputs": [],
   "source": [
    "for memeber in _set:\n",
    "    operation\n",
    "    \n",
    "while condition(>,<.>=,<=,==):\n",
    "    operation"
   ]
  },
  {
   "cell_type": "code",
   "execution_count": 21,
   "metadata": {},
   "outputs": [
    {
     "name": "stdout",
     "output_type": "stream",
     "text": [
      "['solta', 'greenville', 'buenos aires', 'los cabos', 'walla walla valley', 'marakesh', 'albuquerque', 'archipelago sea', 'iguazu falls', 'salina island', 'toronto', 'pyeongchang']\n"
     ]
    }
   ],
   "source": [
    "lower_cities = [] # instatiate new list OUTSIDE of loop\n",
    "for city in top_travel_cities:\n",
    "    lower_cities.append(city.lower())\n",
    "print(lower_cities)"
   ]
  },
  {
   "cell_type": "code",
   "execution_count": 50,
   "metadata": {},
   "outputs": [
    {
     "name": "stdout",
     "output_type": "stream",
     "text": [
      "['solta']\n",
      "['solta', 'greenville']\n",
      "['solta', 'greenville', 'buenos aires']\n",
      "['solta', 'greenville', 'buenos aires', 'los cabos']\n",
      "['solta', 'greenville', 'buenos aires', 'los cabos', 'walla walla valley']\n"
     ]
    }
   ],
   "source": [
    "i = 0             # set index for WHILE loop\n",
    "lower_cities = [] # instatiate new list OUTSIDE of loop\n",
    "#while i < 5:\n",
    "for city in top_travel_cities[:5]: # nested loops (ADVANCED!!!)\n",
    "    i += 1 # be careful with your indexer placement with nested loops!\n",
    "    lower_cities.append(city.lower())\n",
    "    print(lower_cities)"
   ]
  },
  {
   "cell_type": "code",
   "execution_count": 22,
   "metadata": {},
   "outputs": [
    {
     "name": "stdout",
     "output_type": "stream",
     "text": [
      "4\n",
      "3\n",
      "2\n",
      "1\n",
      "The stop_number reached 0 so the while loop's condition became False and stopped execution\n"
     ]
    }
   ],
   "source": [
    "stop_number = 4\n",
    "while stop_number > 0:\n",
    "    print(stop_number)\n",
    "    stop_number -= 1\n",
    "print(\"The stop_number reached\", stop_number, \"so the while loop's condition became False and stopped execution\")"
   ]
  },
  {
   "cell_type": "code",
   "execution_count": null,
   "metadata": {},
   "outputs": [],
   "source": []
  }
 ],
 "metadata": {
  "kernelspec": {
   "display_name": "Python 3",
   "language": "python",
   "name": "python3"
  },
  "language_info": {
   "codemirror_mode": {
    "name": "ipython",
    "version": 3
   },
   "file_extension": ".py",
   "mimetype": "text/x-python",
   "name": "python",
   "nbconvert_exporter": "python",
   "pygments_lexer": "ipython3",
   "version": "3.7.1"
  }
 },
 "nbformat": 4,
 "nbformat_minor": 2
}
