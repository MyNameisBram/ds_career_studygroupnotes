{
 "cells": [
  {
   "cell_type": "markdown",
   "metadata": {},
   "source": [
    "# STUDY GROUP - M01S09\n",
    "## Statistical Distributions"
   ]
  },
  {
   "cell_type": "markdown",
   "metadata": {},
   "source": [
    "### Objectives\n",
    "You will be able to:\n",
    "* The difference between discrete and continuous statistical distributions\n",
    "* How to describe the distribution of data sets using Probability Mass Functions, Cumulative Distribution Functions and Probability Density Functions.\n",
    "* The characteristics of a gaussian/normal distribution\n",
    "* Differences between the normal and the standard normal distribution\n",
    "* The uses of z-scores and p-values for describing a distribution for hypothesis testing\n"
   ]
  },
  {
   "cell_type": "markdown",
   "metadata": {},
   "source": [
    "### Continuous vs Discrete Statistical Distributions"
   ]
  },
  {
   "cell_type": "markdown",
   "metadata": {},
   "source": [
    "continuous distribution - infinite set of possibilities, i.e. temperature\n",
    "\n",
    "discrete distribution - finite set of possibilites, i.e. children in a family"
   ]
  },
  {
   "cell_type": "markdown",
   "metadata": {},
   "source": [
    "### Probability Mass Functions and Probability Density Functions and Cumulative Distribution Functions"
   ]
  },
  {
   "cell_type": "markdown",
   "metadata": {},
   "source": [
    "probability mass function (pmf) - sometimes also called just a frequency function gives us probabilities for **discrete** random variables\n",
    "\n",
    "* There is a probability that a discrete random variable X takes on a particular value x, so that P(X = x), denoted as f(x). The function f(x) is typically called the probability mass function, or pmf.\n",
    "\n",
    "cumulative distribution function (cdf) - gives the probability that the random **discrete** variable X (e.g. dice roll, coin flip) is less than or equal to a certain possible value x.\n",
    "\n",
    "Probability Density Function (pdf) - helps identify the regions in the **continuous** distribution where observations are more likely to occur i.e. it is more dense\n",
    "\n",
    "* seaborn.distplot() function in seaborn which can help visualize a distribution in a number of statistical ways including histograms, density plots, area plots with a huge range of coloring and customization features.\n",
    "\n",
    "    seaborn.distplot(a, bins=None, hist=True, kde=True, rug=False, fit=None, hist_kws=None, kde_kws=None, rug_kws=None, fit_kws=None, color=None, vertical=False, norm_hist=False, axlabel=None, label=None, ax=None)\n",
    "    \n"
   ]
  },
  {
   "cell_type": "markdown",
   "metadata": {},
   "source": [
    "### Distributions: Gaussian/Normal & Standard Normal"
   ]
  },
  {
   "cell_type": "markdown",
   "metadata": {},
   "source": [
    "Normal Characteristics:\n",
    "* Normal distributions are symmetric around their mean.\n",
    "* The mean, median, and mode of a normal distribution are equal.\n",
    "* The area under the bell curve is equal to 1.0.\n",
    "* Normal distributions are denser in the center and less dense in the tails.\n",
    "* Normal distributions are defined by two parameters, the mean (μ) and the standard deviation (σ).\n",
    "* Around 68% of the area of a normal distribution is within one standard deviation of the mean (μ - σ to μ + σ)\n",
    "* Approximately 95% of the area of a normal distribution is within two standard deviations of the mean (μ - 2σ to μ + 2σ).\n",
    "    \n",
    "Central limit theorem:\n",
    "* When we add large number of independent random variables, irrespective of the original distribution of these variables, their normalized sum tends towards a Gaussian distribution. Why would this be useful for statistical analysis in data science?\n",
    "\n",
    "standard normal distribution - special case of the normal distribution with a mean of 0 and a standard deviation of 1 \n",
    "\n",
    "z score - always reflects the number of standard deviations above or below the mean a particular score is\n",
    "* allows us to:\n",
    "1. Calculate the probability of a score occurring within a given normal distribution and\n",
    "2. **Enables comparison between two scores that are from different normal distributions.**"
   ]
  },
  {
   "cell_type": "markdown",
   "metadata": {},
   "source": [
    "### Z-scores and p-values"
   ]
  },
  {
   "cell_type": "markdown",
   "metadata": {},
   "source": [
    "A population is the collection of all items of interest to our study and is usually denoted with an uppercase N. The numbers we’ve obtained when using a population are called parameters.\n",
    "\n",
    "A sample is a subset of the population and is denoted with a lowercase n, and the numbers we’ve obtained when working with a sample are called statistics."
   ]
  },
  {
   "cell_type": "code",
   "execution_count": null,
   "metadata": {},
   "outputs": [],
   "source": []
  }
 ],
 "metadata": {
  "kernelspec": {
   "display_name": "Python 3",
   "language": "python",
   "name": "python3"
  },
  "language_info": {
   "codemirror_mode": {
    "name": "ipython",
    "version": 3
   },
   "file_extension": ".py",
   "mimetype": "text/x-python",
   "name": "python",
   "nbconvert_exporter": "python",
   "pygments_lexer": "ipython3",
   "version": "3.7.1"
  }
 },
 "nbformat": 4,
 "nbformat_minor": 2
}
