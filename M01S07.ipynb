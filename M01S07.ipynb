{
 "cells": [
  {
   "cell_type": "markdown",
   "metadata": {},
   "source": [
    "# STUDY GROUP - M01S07\n",
    "## OOP Continued..."
   ]
  },
  {
   "cell_type": "markdown",
   "metadata": {},
   "source": [
    "### Objectives\n",
    "You will be able to:\n",
    "* Understand how object initialization allows creation of pre-defined attributes for future class instances\n",
    "* Define a domain model, understand why it's useful\n",
    "* Understand class variables/methods and their relationship to instance variables/methods\n",
    "* Understand how inheritance and superclasses can help us to re-use redundant code in an efficient way"
   ]
  },
  {
   "cell_type": "markdown",
   "metadata": {},
   "source": [
    "### Object Intitialization"
   ]
  },
  {
   "cell_type": "markdown",
   "metadata": {},
   "source": [
    "__init__ : allows classes to have default methods(functions) and attributes(variables)\n",
    "* allows us to initializes instances of objects with defined attributes"
   ]
  },
  {
   "cell_type": "code",
   "execution_count": 1,
   "metadata": {},
   "outputs": [],
   "source": [
    "class Person:\n",
    "    def __init__(self, name=None, job=None): # default arguments allows parameters to be specified if desired, but are NOT required\n",
    "        self.name = name\n",
    "        self.job = job"
   ]
  },
  {
   "cell_type": "markdown",
   "metadata": {},
   "source": [
    "### Object Oriented Attributes with Functions"
   ]
  },
  {
   "cell_type": "markdown",
   "metadata": {},
   "source": [
    "domain model - representation of a real-world concept or structure translated in to software\n",
    "* When constructing a domain model we need to keep use cases in mind so that we use the right data structures\n",
    "    - For example.... should Customer be a dictionary or a class? What use cases can we forsee that would influence our decision?"
   ]
  },
  {
   "cell_type": "code",
   "execution_count": 2,
   "metadata": {},
   "outputs": [],
   "source": [
    "class Customer():\n",
    "    def __init__(self, name=None, orders=[], location=None): # declare and set default attributes for future instatiations of class\n",
    "        self.name=name              \n",
    "        self.orders = orders\n",
    "        self.location = location\n",
    "        self.total_spent = sum([i['item_cost']*i['quantity'] for i in orders]) # LIST COMPREHENSION!\n",
    "    def add_order(self, item_name, item_cost, quantity):   # function/method calls on class attributes/variables \n",
    "        self.orders.append({'item_name': item_name, 'item_cost':item_cost, 'quantity':quantity}) # NESTED DATA STRUCTURE!\n",
    "        self.total_spent += item_cost * quantity"
   ]
  },
  {
   "cell_type": "code",
   "execution_count": 3,
   "metadata": {},
   "outputs": [],
   "source": [
    "class Business():\n",
    "    def __init__(self, name=None, biz_type=None, city=None, customers = []):\n",
    "        self.name = name\n",
    "        self.biz_type = biz_type\n",
    "        self.city = city\n",
    "        self.customers = customers\n",
    "    def add_customer(self, customer):\n",
    "        self.customers.append(customer)\n",
    "    def top_n_customers(self, n):\n",
    "        top_n = sorted(self.customers, key = lambda x: x.total_spent, reverse=True)[:n]\n",
    "        for c in top_n:\n",
    "            print(c.name, c.total_spent)"
   ]
  },
  {
   "cell_type": "markdown",
   "metadata": {},
   "source": [
    "### Class Variables and Class Methods"
   ]
  },
  {
   "cell_type": "markdown",
   "metadata": {},
   "source": [
    "class variables - store information that relates to the class objects instead of each singular instance object\n",
    "\n",
    "class methods - access and manipulate class variables as well as any operations that are specific to the class level in lieu of the instance level\n",
    "   * reference cls instead of self (class vs instance)\n",
    "\n",
    "When to use class variables/methods (attributes/functions)? \n",
    "* When we think about defining a class method, it follows similar logic. Is the responsibility of this method to operate on or return information for an instance object or a class object? If the method is meant to return a class variable or operate on a class variable, then it is definitely appropriate to define a class method.\n",
    "\n",
    "Why have class methods to alter class variables when we can access the class variables directly?\n",
    "* It is design best practice for SECURITY to have class variables **private**. Therefore, similar to instance variables, we use class methods to alter class variables."
   ]
  },
  {
   "cell_type": "code",
   "execution_count": 4,
   "metadata": {},
   "outputs": [
    {
     "name": "stdout",
     "output_type": "stream",
     "text": [
      "1. --- canine --- This is a class object accessing its class variable\n",
      "2. --- HI IM A CANINE --- This is an instance object accessing its **intstance** variable\n"
     ]
    }
   ],
   "source": [
    "class Dog:\n",
    "    \n",
    "    _species = \"canine\" # class variable/attribute\n",
    "    \n",
    "    def __init__(self, species, breed, name, age): # instance variable/attribute definitions\n",
    "        self._species = species\n",
    "        self._breed = breed\n",
    "        self._name = name        \n",
    "        self._age = age        \n",
    "\n",
    "new_dog = Dog(\"HI IM A CANINE\", \"Airedale\", \"The Dude\", \"13\")\n",
    "print(\"1. ---\", Dog._species, \"--- This is a class object accessing its class variable\")\n",
    "print(\"2. ---\", new_dog._species, \"--- This is an instance object accessing its **intstance** variable\")"
   ]
  },
  {
   "cell_type": "code",
   "execution_count": 12,
   "metadata": {},
   "outputs": [
    {
     "name": "stdout",
     "output_type": "stream",
     "text": [
      "1. --- canine --- This is the dog **class** directly accessing its class variable\n",
      "2. --- I'm a dog INSTANCE --- This is an **instance object** of the dog class accessing its own instance variable\n",
      "3. --- canine --- This is the dog class invoking the species *class method* to access its class variable\n",
      "4. --- canine --- This is an **instance object** of the dog class invoking the *class method*\n"
     ]
    }
   ],
   "source": [
    "class Dog:\n",
    "    \n",
    "    _species = \"canine\" # class variable/attribute\n",
    "    \n",
    "    def __init__(self): # instance variable/attribute definition\n",
    "        self._species = \"I'm a dog INSTANCE\"\n",
    "    \n",
    "    @classmethod\n",
    "    def species(cls):  # class method, reference cls instead of self\n",
    "        return cls._species\n",
    "    \n",
    "    \n",
    "new_dog2 = Dog() # instatiation of Dog class\n",
    "print(\"1. ---\", Dog._species, \"--- This is the dog **class** directly accessing its class variable\")\n",
    "print(\"2. ---\", new_dog2._species, \"--- This is an **instance object** of the dog class accessing its own instance variable\")\n",
    "print(\"3. ---\", Dog.species(), \"--- This is the dog class invoking the species *class method* to access its class variable\")\n",
    "print(\"4. ---\", new_dog2.species(), \"--- This is an **instance object** of the dog class invoking the *class method*\")"
   ]
  },
  {
   "cell_type": "code",
   "execution_count": 14,
   "metadata": {},
   "outputs": [
    {
     "name": "stdout",
     "output_type": "stream",
     "text": [
      "1. --- [] --- Checking the Dog class's class variale _all\n",
      "2. --- [<__main__.Dog object at 0x10f6a4be0>] --- Using the add_dog class method to add a new dog instance to _all\n",
      "3. --- [<__main__.Dog object at 0x10f6a4be0>] --- Checking the Dog class's class variale _all\n"
     ]
    }
   ],
   "source": [
    "class Dog:\n",
    "    \n",
    "    _all = [] # class variable\n",
    "    \n",
    "    def __init__(self, breed, name, age): # instance variable/attribute definition\n",
    "        self._breed = breed\n",
    "        self._name = name        \n",
    "        self._age = age  \n",
    "    \n",
    "    @classmethod\n",
    "    def add_dog(cls, dog_instance): # class method which operates on class variable\n",
    "        cls._all.append(dog_instance)\n",
    "        return cls._all\n",
    "    \n",
    "biscuit = Dog(\"Airedale\", \"Biscuit\", 12)\n",
    "# biscuit = Dog(\"Airedale\", \"Biscuit\", 12)\n",
    "# biscuit = Dog(\"Airedale\", \"Biscuit\", 12)\n",
    "print(\"1. ---\", Dog._all, \"--- Checking the Dog class's class variale _all\")\n",
    "print(\"2. ---\", Dog.add_dog(biscuit), \"--- Using the add_dog class method to add a new dog instance to _all\")\n",
    "print(\"3. ---\", Dog._all, \"--- Checking the Dog class's class variale _all\")"
   ]
  },
  {
   "cell_type": "markdown",
   "metadata": {},
   "source": [
    "### Inheritance"
   ]
  },
  {
   "cell_type": "markdown",
   "metadata": {},
   "source": [
    "Why use inheritance? \n",
    "* Inheritance allows us to create relationships between Superclasses and Subclasses to save us from writing redundant code!\n",
    "\n",
    "When we make use of a subclass and a superclass, we are defining levels of **Abstraction**. In this case, the superclass Guitarist is one level of abstraction higher than the subclass Bass_Guitarist. Intuitively, this makes sense--bass guitarists are a kind of guitarist, but thankfully not all guitarists are bass guitarists.\n",
    "\n",
    "If we create another superclass called Musician this is called an **Abstract Superclass** because the superclass we're using is at a level of abstraction where it does not make sense for it to exist on its own. For example, it makes sense to instantiate drummers, singers, and guitarists--they are members of a band, and by playing these instruments, they are musicians. However, you cannot be a musician without belonging to one of these subclasses--there is no such thing as a musician that doesnt play any instruments or sing! It makes no sense to instantiate a Musician, because they don't really exist in the real world--we only create this Abstract Superclass to define the commonalities between our subclasses and save ourselves some redundant code!"
   ]
  },
  {
   "cell_type": "code",
   "execution_count": 15,
   "metadata": {},
   "outputs": [],
   "source": [
    "class Guitarist(object):\n",
    "    \n",
    "    def __init__(self):\n",
    "        self.name = \"George\"\n",
    "        self.role = \"Guitarist\"\n",
    "        self.instrument_type = \"Stringed Instrument\"\n",
    "        \n",
    "    def tune_instrument(self):\n",
    "        print(\"Tune the strings!\")\n",
    "        \n",
    "    def practice(self):\n",
    "        print(\"Strumming the old 6 string!\")\n",
    "        \n",
    "    def perform(self):\n",
    "        print(\"Hello, New  York!\")\n",
    "        \n",
    "class Bass_Guitarist(Guitarist):\n",
    "    \n",
    "    def __init__(self):\n",
    "        super().__init__() # notice formatting, parentheses are important!\n",
    "        self.name = \"Paul\"\n",
    "        self.role = \"Bass Guitarist\"\n",
    "        \n",
    "    def practice(self):\n",
    "        print(\"I play the Seinfeld Theme Song when I get bored\")\n",
    "        \n",
    "    def perform(self):\n",
    "        super().perform()\n",
    "        print(\"Thanks for coming out!\")"
   ]
  },
  {
   "cell_type": "code",
   "execution_count": 16,
   "metadata": {},
   "outputs": [],
   "source": [
    "class Musician(object):\n",
    "    \n",
    "    def __init__(self, name): # We'll set name at instantiation time to demonstrate passing in arguments to super().__init__()\n",
    "        self.name = name\n",
    "        self.band = \"The Beatles\"\n",
    "    \n",
    "    def tune_instrument(self):\n",
    "        print(\"Tuning Instrument!\")\n",
    "    \n",
    "    def practice(self):\n",
    "        print(\"Practicing!\")\n",
    "        \n",
    "    def perform(self):\n",
    "        print(\"Hello New York!\")\n",
    "        \n",
    "class Singer(Musician):\n",
    "    \n",
    "    def __init__(self, name):\n",
    "        super().__init__(name)  # Notice how we pass in name argument from init to the super().__init() method, because it expects it\n",
    "        self.role = \"Singer\"\n",
    "        \n",
    "    def tune_instrument(self):\n",
    "        print(\"No tuning needed--I'm a singer!\")\n",
    "    \n",
    "class Guitarist(Musician):\n",
    "    \n",
    "    def __init__(self, name):\n",
    "        super().__init__(name)\n",
    "        self.role = \"Guitarist\"\n",
    "        \n",
    "    def practice(self):\n",
    "        print(\"Strumming the old 6 string!\")\n",
    "        \n",
    "class Bass_Guitarist(Guitarist):\n",
    "    \n",
    "    def __init__(self, name):\n",
    "        super().__init__(name)\n",
    "        self.role = \"Bass Guitarist\"\n",
    "        \n",
    "    def practice(self):\n",
    "        print(\"I play the Seinfeld Theme Song when I get bored\")\n",
    "        \n",
    "    def perform(self):\n",
    "        super().perform()\n",
    "        print(\"Thanks for coming out!\")\n",
    "        \n",
    "class Drummer(Musician):\n",
    "    \n",
    "    def __init__(self, name):\n",
    "        super().__init__(name)\n",
    "        self.role = \"Drummer\"\n",
    "        \n",
    "    def tune_instrument(self):\n",
    "        print('Where did I put those drum sticks?')\n",
    "        \n",
    "    def practice(self):\n",
    "        print('Why does my chair still say \"Pete Best\"?')"
   ]
  },
  {
   "cell_type": "code",
   "execution_count": null,
   "metadata": {},
   "outputs": [],
   "source": []
  }
 ],
 "metadata": {
  "kernelspec": {
   "display_name": "Python 3",
   "language": "python",
   "name": "python3"
  },
  "language_info": {
   "codemirror_mode": {
    "name": "ipython",
    "version": 3
   },
   "file_extension": ".py",
   "mimetype": "text/x-python",
   "name": "python",
   "nbconvert_exporter": "python",
   "pygments_lexer": "ipython3",
   "version": "3.7.1"
  }
 },
 "nbformat": 4,
 "nbformat_minor": 2
}
