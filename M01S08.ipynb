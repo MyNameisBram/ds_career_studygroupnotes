{
 "cells": [
  {
   "cell_type": "markdown",
   "metadata": {},
   "source": [
    "# STUDY GROUP - M01S08\n",
    "## Numpy & Probability Theory"
   ]
  },
  {
   "cell_type": "markdown",
   "metadata": {},
   "source": [
    "### Objectives\n",
    "You will be able to:\n",
    "* Understand the advantages of the numpy library for array and matrix computation compared to python lists\n",
    "* Explain the inclusion/exclusion principle and the sum rule\n",
    "* Explain the difference between permutations and combinations\n",
    "* Explain the relationship between Bernoulli events and the binomial distribution"
   ]
  },
  {
   "cell_type": "markdown",
   "metadata": {},
   "source": [
    "### Basic Probability Theory"
   ]
  },
  {
   "cell_type": "markdown",
   "metadata": {},
   "source": [
    "Probability - the chance that a certain event will happen, in other words, how \"likely\" it is that some event will happen.\n",
    "* As data science often uses statistical inference to analyze or predict certain events or trends, knowing probability and its applications is important, because statistical inference uses probability distributions of the data.\n",
    "\n",
    "**Law of Relative Frequency**\n",
    "\n",
    "Let's denote an event  E , and  P(E)  the probability of  E  occurring. Next, let  nn  be the number of conducted experiments, and  S(n)  the count of \"succesful\" experiments (i.e. the times that event  E  happend). The formal definition of probability as a relative frequency is given by:\n",
    "\n",
    "P(E) as \"$$P(E) = \\lim_{n\\rightarrow\\infty} \\dfrac{S{(n)}}{n}$$\" ",
    "\n",
    " \n",
    "This is the basis of a frequentist statistical interpretation: an events probability is the ratio of the positive trails to the total number of trials as we repeat the process infinitely.\n",
    "\n",
    "\n",
    "\n",
    "**Addition Law of Probability**\n",
    "\n",
    "The additivity axiom is great, but most of the time events are not exclusive. A very important property is the addition law or probability or the sum rule.\n",
    "\n",
    "P(A∪B)=P(A)+P(B)−P(A∩B) \n",
    "\n",
    "Put in words, the probability that  A  or  B  will happen is the sum of the probabilities that  A  will happen and that  B  will happen, minus the probability that both  A  and  B will happen."
   ]
  },
  {
   "cell_type": "markdown",
   "metadata": {},
   "source": [
    "### Numpy"
   ]
  },
  {
   "cell_type": "markdown",
   "metadata": {},
   "source": [
    "What is numpy? \n",
    "* Python libary containing new data structure, the ndarray, which is a lightweight version of a list.\n",
    "\n",
    "So why would you want to use a NumPy array instead of a list? \n",
    "* Compared to a list, NumPy makes it very easy to perform array operations, like adding, multiplying, and otherwise operating on each element of the collection. "
   ]
  },
  {
   "cell_type": "code",
   "execution_count": 2,
   "metadata": {},
   "outputs": [
    {
     "name": "stdout",
     "output_type": "stream",
     "text": [
      "1. Without NumPy: [3.8888888888888893, 5.555555555555555, 10.0, 16.666666666666668, 22.22222222222222, 26.666666666666668, 29.444444444444446, 28.88888888888889, 24.444444444444446, 18.333333333333336, 12.222222222222223, 6.666666666666667]\n",
      "2. WITH NumPy: [ 3.88888889  5.55555556 10.         16.66666667 22.22222222 26.66666667\n",
      " 29.44444444 28.88888889 24.44444444 18.33333333 12.22222222  6.66666667]\n"
     ]
    }
   ],
   "source": [
    "import numpy as np \n",
    "\n",
    "# average temps in NYC from January -> December (in Farenheight)\n",
    "nyc_avg_temps_f = [39, 42, 50, 62, 72, 80, 85, 84, 76, 65, 54, 44]\n",
    "\n",
    "# ----- without NumPy -----\n",
    "nyc_avg_temps_c = list(range(0,12))\n",
    "nyc_avg_temps_c[0] = (nyc_avg_temps_f[0] - 32) * (5/9)\n",
    "nyc_avg_temps_c[1] = (nyc_avg_temps_f[1] - 32) * (5/9)\n",
    "nyc_avg_temps_c[2] = (nyc_avg_temps_f[2] - 32) * (5/9)\n",
    "nyc_avg_temps_c[3] = (nyc_avg_temps_f[3] - 32) * (5/9)\n",
    "nyc_avg_temps_c[4] = (nyc_avg_temps_f[4] - 32) * (5/9)\n",
    "nyc_avg_temps_c[5] = (nyc_avg_temps_f[5] - 32) * (5/9)\n",
    "nyc_avg_temps_c[6] = (nyc_avg_temps_f[6] - 32) * (5/9)\n",
    "nyc_avg_temps_c[7] = (nyc_avg_temps_f[7] - 32) * (5/9)\n",
    "nyc_avg_temps_c[8] = (nyc_avg_temps_f[8] - 32) * (5/9)\n",
    "nyc_avg_temps_c[9] = (nyc_avg_temps_f[9] - 32) * (5/9)\n",
    "nyc_avg_temps_c[10] = (nyc_avg_temps_f[10] - 32) * (5/9)\n",
    "nyc_avg_temps_c[11] = (nyc_avg_temps_f[11] - 32) * (5/9)\n",
    "# -------------------------\n",
    "\n",
    "# ------ WITH NumPy -------\n",
    "np_nyc_avg_temps_f = np.array(nyc_avg_temps_f)\n",
    "np_nyc_avg_temps_c = (np_nyc_avg_temps_f - 32) * (5/9)\n",
    "# -------------------------\n",
    "\n",
    "print(\"1. Without NumPy:\", nyc_avg_temps_c)\n",
    "print(\"2. WITH NumPy:\", np_nyc_avg_temps_c)"
   ]
  },
  {
   "cell_type": "code",
   "execution_count": 3,
   "metadata": {},
   "outputs": [
    {
     "name": "stdout",
     "output_type": "stream",
     "text": [
      "Time it takes to add 1 to each element in a list withOUT NumPy: 0.07889000000000013\n",
      "Time it takes to add 1 to each element in a list WITH NumPy: 0.00459900000000002\n",
      "NumPy completes the operation 0.07429100000000011 seconds faster than a traditional list\n"
     ]
    },
    {
     "name": "stderr",
     "output_type": "stream",
     "text": [
      "/Users/blewis2/anaconda3/lib/python3.7/site-packages/ipykernel_launcher.py:11: DeprecationWarning: time.clock has been deprecated in Python 3.3 and will be removed from Python 3.8: use time.perf_counter or time.process_time instead\n",
      "  # This is added back by InteractiveShellApp.init_path()\n",
      "/Users/blewis2/anaconda3/lib/python3.7/site-packages/ipykernel_launcher.py:13: DeprecationWarning: time.clock has been deprecated in Python 3.3 and will be removed from Python 3.8: use time.perf_counter or time.process_time instead\n",
      "  del sys.path[0]\n",
      "/Users/blewis2/anaconda3/lib/python3.7/site-packages/ipykernel_launcher.py:17: DeprecationWarning: time.clock has been deprecated in Python 3.3 and will be removed from Python 3.8: use time.perf_counter or time.process_time instead\n",
      "/Users/blewis2/anaconda3/lib/python3.7/site-packages/ipykernel_launcher.py:19: DeprecationWarning: time.clock has been deprecated in Python 3.3 and will be removed from Python 3.8: use time.perf_counter or time.process_time instead\n"
     ]
    }
   ],
   "source": [
    "import time\n",
    "\n",
    "# using 1 million integers\n",
    "huge_list_of_integers = list(range(0, 1000000))\n",
    "huge_np_array_of_integers = np.array(huge_list_of_integers)\n",
    "\n",
    "def add_one(list_of_ints):\n",
    "    return [num + 1 for num in list_of_ints]\n",
    "\n",
    "\n",
    "start_time = time.clock() # time when operation starts\n",
    "add_one(huge_list_of_integers) # adds 1 to each number in the list of integers above\n",
    "end_time = time.clock() # time when operation finishes\n",
    "total_time = (end_time - start_time) # total time for operation\n",
    "\n",
    "\n",
    "start_time_with_np = time.clock() # time when operation starts\n",
    "huge_np_array_of_integers + 1 # adds 1 to each number in the array of integers\n",
    "end_time_with_np = time.clock() # time when operation finishes\n",
    "total_time_with_np = (end_time_with_np - start_time_with_np) # total time for operation\n",
    "\n",
    "print(\"Time it takes to add 1 to each element in a list withOUT NumPy:\", total_time)\n",
    "print(\"Time it takes to add 1 to each element in a list WITH NumPy:\", total_time_with_np)\n",
    "print(\"NumPy completes the operation\", (total_time - total_time_with_np), \"seconds faster than a traditional list\")"
   ]
  },
  {
   "cell_type": "markdown",
   "metadata": {},
   "source": [
    "### Permutations & Factorials - When order is important"
   ]
  },
  {
   "cell_type": "markdown",
   "metadata": {},
   "source": [
    "**Permutations of a Set**\n",
    "The Michael Jackson tribute band \"Who's bad\" is playing a free mini gig in Central Park next week. They have selected three all-time classics: \"Billy Jean\", \"Bad\" and \"Thriller\", but still have to decide the order they will play the songs in. Knowing this, how many playlists are possible?\n",
    "\n",
    "You have 3 songs to choose from, so 3 ways of chosing a first song. Then, you move on to the second song. You've chosen the first one, so you have 2 songs to choose from now. Etcetera. Mathematically, this boils down to:\n",
    "\n",
    "#Jackson permutations=3∗2∗1=3!=6\n",
    "\n",
    "Generalizing this to n, this means that the number of **permutations** with n distinct objects is n!, or the factorial of n.\n",
    "\n"
   ]
  },
  {
   "cell_type": "markdown",
   "metadata": {},
   "source": [
    "**Permutations of a Subset**\n",
    "\n",
    "They only get a 12min gig slot, so they really can't play more than 3, yet they have a shortlist of 8 they need to pick from. How many final song selections are possible given this info? As for the first example, the order of the songs played is still important.\n",
    "\n",
    "When the band members decide on the first song, they have 8 possible songs to choose from. When chosing the second song, they have 7 to choose from. Then for the third song, they have 6 left.\n",
    "\n",
    "#Jackson k-permutations=8∗7∗6=336\n",
    "formalizing this, the question is how many ways we can select kk elements out of a pool of nn objects. The answer is\n",
    "\n",
    "n∗(n−1)∗...∗(n−k+1)n∗(n−1)∗...∗(n−k+1) or in other words, Pnk=n!(n−k)!Pkn=n!(n−k)!\n",
    "This is known as a kk-permutation of nn."
   ]
  },
  {
   "cell_type": "markdown",
   "metadata": {},
   "source": [
    "**Permutations with Replacement**\n",
    "\n",
    "When talking about setlists, it makes total sense to assume that songs will not be played twice. This is not always how it works though. Let's consider throwing a dice. Imagine a bag with three marbles in it: a green one, a red one, and a blue one. Now we'll draw marbles three times in a row, but each time, we'll write down the marble color and put it back in the bag before drawing again.\n",
    "\n",
    "Now the number of possible outcomes is 3∗3∗3.\n",
    "\n",
    "Except for the fact that marbles can be put back in the bag,\n",
    "\n",
    "Generalizing this to n, this means that the number of permutations with replacenent when having n distinct objects is equal to n^j where j is the number of \"draws\"."
   ]
  },
  {
   "cell_type": "markdown",
   "metadata": {},
   "source": [
    "### Combinations - when order is NOT important"
   ]
  },
  {
   "cell_type": "markdown",
   "metadata": {},
   "source": [
    "Here, we just want to know which three songs they play, and not which song goes first, second and last.\n",
    "\n",
    "We can use a backward rationale here. We know that when order did matter, our answer was  8∗7∗6 . When having three elements, there are 6 possible orders (ABC, ACB, CAB, CBA, BAC, BCA), so we get to the answer by dividing our previous answer by 6.\n",
    "\n",
    "This type of problem setting can be solved by using combinations. In general, combinations answer the question: \"how many ways can we create a subset  kk  out of  nn  objects?\". The subset is not ordered.\n",
    "\n",
    "(nk)=Pnkk!=n!(n−k)!k!=n!(n−k)!k!\n",
    " \n",
    "Note how 6 in our Michael Jackson example  =6=3!, as expected."
   ]
  },
  {
   "cell_type": "markdown",
   "metadata": {},
   "source": [
    "### Bernoulli & Binomial Distributions"
   ]
  },
  {
   "cell_type": "markdown",
   "metadata": {},
   "source": [
    "The Bernoulli experiment is a simple experiment in which we have a binary outcome: 0-1, succes-failure, head-tail, etc.\n",
    "\n",
    "Note how the Bernoulli distribution describes a single coin flip, a single penalty shot, etc. What if we repeat this process multiple times and are interested in the probability to obtain a certain numbers of 1s/successes/tails? This process is described by the **binomial distribution**.\n",
    "\n",
    "The binomial distribution describes the process of performing several (denoted by  n ) independent Bernoulli trials. So what does it mean that the trials are independent?\n",
    "\n",
    "When we say that events are independent, this means that an event is **not affected** by previous events."
   ]
  },
  {
   "cell_type": "code",
   "execution_count": null,
   "metadata": {},
   "outputs": [],
   "source": []
  }
 ],
 "metadata": {
  "kernelspec": {
   "display_name": "Python 3",
   "language": "python",
   "name": "python3"
  },
  "language_info": {
   "codemirror_mode": {
    "name": "ipython",
    "version": 3
   },
   "file_extension": ".py",
   "mimetype": "text/x-python",
   "name": "python",
   "nbconvert_exporter": "python",
   "pygments_lexer": "ipython3",
   "version": "3.7.1"
  }
 },
 "nbformat": 4,
 "nbformat_minor": 2
}
